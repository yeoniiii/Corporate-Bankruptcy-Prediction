{
 "cells": [
  {
   "cell_type": "markdown",
   "metadata": {},
   "source": [
    "# 0. 라이브러리"
   ]
  },
  {
   "cell_type": "code",
   "execution_count": 91,
   "metadata": {},
   "outputs": [],
   "source": [
    "import pandas as pd\n",
    "import numpy as np\n",
    "import seaborn as sns\n",
    "from tqdm import tqdm"
   ]
  },
  {
   "cell_type": "code",
   "execution_count": 92,
   "metadata": {},
   "outputs": [],
   "source": [
    "import warnings\n",
    "warnings.filterwarnings(\"ignore\")\n",
    "\n",
    "import matplotlib.pyplot as plt\n",
    "plt.rcParams['font.family'] = 'AppleGothic'\n",
    "plt.rcParams['axes.unicode_minus'] = False\n",
    "\n",
    "pd.set_option('display.max_rows', None)\n",
    "pd.set_option('display.max_columns', None)"
   ]
  },
  {
   "cell_type": "markdown",
   "metadata": {},
   "source": [
    "# 1. 데이터 불러오기"
   ]
  },
  {
   "cell_type": "code",
   "execution_count": 93,
   "metadata": {},
   "outputs": [],
   "source": [
    "data = pd.read_csv('./data/기업별재무거시데이터.csv', dtype={'종목코드':str})"
   ]
  },
  {
   "cell_type": "code",
   "execution_count": 94,
   "id": "f64dd513",
   "metadata": {
    "scrolled": true
   },
   "outputs": [
    {
     "data": {
      "text/html": [
       "<div>\n",
       "<style scoped>\n",
       "    .dataframe tbody tr th:only-of-type {\n",
       "        vertical-align: middle;\n",
       "    }\n",
       "\n",
       "    .dataframe tbody tr th {\n",
       "        vertical-align: top;\n",
       "    }\n",
       "\n",
       "    .dataframe thead th {\n",
       "        text-align: right;\n",
       "    }\n",
       "</style>\n",
       "<table border=\"1\" class=\"dataframe\">\n",
       "  <thead>\n",
       "    <tr style=\"text-align: right;\">\n",
       "      <th></th>\n",
       "      <th>기업명</th>\n",
       "      <th>종목코드</th>\n",
       "      <th>상장일</th>\n",
       "      <th>지속기간</th>\n",
       "      <th>기준연도</th>\n",
       "      <th>부채비율</th>\n",
       "      <th>자기자본비율</th>\n",
       "      <th>총자산영업이익율</th>\n",
       "      <th>ROA</th>\n",
       "      <th>ROE</th>\n",
       "      <th>매출액영업이익율</th>\n",
       "      <th>총자산증가율</th>\n",
       "      <th>매출액증가율</th>\n",
       "      <th>당기순이익증가율</th>\n",
       "      <th>영업이익증가율</th>\n",
       "      <th>유동비율</th>\n",
       "      <th>자산회전율</th>\n",
       "      <th>부채회전율</th>\n",
       "      <th>자본회전율</th>\n",
       "      <th>총매출액규모</th>\n",
       "      <th>총자산규모</th>\n",
       "      <th>GDP성장률</th>\n",
       "      <th>원달러환율</th>\n",
       "      <th>CD91일</th>\n",
       "      <th>코스닥종가</th>\n",
       "      <th>전산업생산지수</th>\n",
       "      <th>경제심리지수</th>\n",
       "      <th>뉴스심리지수</th>\n",
       "      <th>부도</th>\n",
       "      <th>폐지일</th>\n",
       "    </tr>\n",
       "  </thead>\n",
       "  <tbody>\n",
       "    <tr>\n",
       "      <th>0</th>\n",
       "      <td>3S</td>\n",
       "      <td>060310</td>\n",
       "      <td>2002-04-23</td>\n",
       "      <td>7861</td>\n",
       "      <td>2022</td>\n",
       "      <td>69.873715</td>\n",
       "      <td>0.588673</td>\n",
       "      <td>0.022297</td>\n",
       "      <td>0.017986</td>\n",
       "      <td>0.031284</td>\n",
       "      <td>0.053563</td>\n",
       "      <td>16.142265</td>\n",
       "      <td>13.399616</td>\n",
       "      <td>40.639176</td>\n",
       "      <td>196.979059</td>\n",
       "      <td>1.182665</td>\n",
       "      <td>0.416268</td>\n",
       "      <td>1.012011</td>\n",
       "      <td>0.707129</td>\n",
       "      <td>24.023192</td>\n",
       "      <td>24.899618</td>\n",
       "      <td>2.61</td>\n",
       "      <td>1291.4</td>\n",
       "      <td>2.49</td>\n",
       "      <td>679.29</td>\n",
       "      <td>110.1</td>\n",
       "      <td>100.28</td>\n",
       "      <td>94.21</td>\n",
       "      <td>0</td>\n",
       "      <td>NaN</td>\n",
       "    </tr>\n",
       "  </tbody>\n",
       "</table>\n",
       "</div>"
      ],
      "text/plain": [
       "  기업명    종목코드         상장일  지속기간  기준연도       부채비율    자기자본비율  총자산영업이익율  \\\n",
       "0  3S  060310  2002-04-23  7861  2022  69.873715  0.588673  0.022297   \n",
       "\n",
       "        ROA       ROE  매출액영업이익율     총자산증가율     매출액증가율   당기순이익증가율     영업이익증가율  \\\n",
       "0  0.017986  0.031284  0.053563  16.142265  13.399616  40.639176  196.979059   \n",
       "\n",
       "       유동비율     자산회전율     부채회전율     자본회전율     총매출액규모      총자산규모  GDP성장률  \\\n",
       "0  1.182665  0.416268  1.012011  0.707129  24.023192  24.899618    2.61   \n",
       "\n",
       "    원달러환율  CD91일   코스닥종가  전산업생산지수  경제심리지수  뉴스심리지수  부도  폐지일  \n",
       "0  1291.4   2.49  679.29    110.1  100.28   94.21   0  NaN  "
      ]
     },
     "execution_count": 94,
     "metadata": {},
     "output_type": "execute_result"
    }
   ],
   "source": [
    "data.head(1)"
   ]
  },
  {
   "cell_type": "markdown",
   "id": "2a792563",
   "metadata": {},
   "source": [
    "# 2. 데이터 전처리"
   ]
  },
  {
   "cell_type": "code",
   "execution_count": 95,
   "metadata": {},
   "outputs": [],
   "source": [
    "data.상장일 = pd.to_datetime(data.상장일)\n",
    "data.폐지일 = pd.to_datetime(data.폐지일)"
   ]
  },
  {
   "cell_type": "code",
   "execution_count": 96,
   "metadata": {},
   "outputs": [
    {
     "data": {
      "text/plain": [
       "(1522, 30)"
      ]
     },
     "execution_count": 96,
     "metadata": {},
     "output_type": "execute_result"
    }
   ],
   "source": [
    "data.shape"
   ]
  },
  {
   "cell_type": "code",
   "execution_count": 97,
   "metadata": {},
   "outputs": [
    {
     "data": {
      "text/plain": [
       "Index(['기업명', '종목코드', '상장일', '지속기간', '기준연도', '부채비율', '자기자본비율', '총자산영업이익율',\n",
       "       'ROA', 'ROE', '매출액영업이익율', '총자산증가율', '매출액증가율', '당기순이익증가율', '영업이익증가율',\n",
       "       '유동비율', '자산회전율', '부채회전율', '자본회전율', '총매출액규모', '총자산규모', 'GDP성장률', '원달러환율',\n",
       "       'CD91일', '코스닥종가', '전산업생산지수', '경제심리지수', '뉴스심리지수', '부도', '폐지일'],\n",
       "      dtype='object')"
      ]
     },
     "execution_count": 97,
     "metadata": {},
     "output_type": "execute_result"
    }
   ],
   "source": [
    "data.columns"
   ]
  },
  {
   "cell_type": "code",
   "execution_count": 98,
   "id": "98c66daa",
   "metadata": {
    "scrolled": true
   },
   "outputs": [
    {
     "name": "stdout",
     "output_type": "stream",
     "text": [
      "<class 'pandas.core.frame.DataFrame'>\n",
      "RangeIndex: 1522 entries, 0 to 1521\n",
      "Data columns (total 30 columns):\n",
      " #   Column    Non-Null Count  Dtype         \n",
      "---  ------    --------------  -----         \n",
      " 0   기업명       1522 non-null   object        \n",
      " 1   종목코드      1522 non-null   object        \n",
      " 2   상장일       1522 non-null   datetime64[ns]\n",
      " 3   지속기간      1522 non-null   int64         \n",
      " 4   기준연도      1522 non-null   int64         \n",
      " 5   부채비율      1522 non-null   float64       \n",
      " 6   자기자본비율    1522 non-null   float64       \n",
      " 7   총자산영업이익율  1522 non-null   float64       \n",
      " 8   ROA       1522 non-null   float64       \n",
      " 9   ROE       1522 non-null   float64       \n",
      " 10  매출액영업이익율  1522 non-null   float64       \n",
      " 11  총자산증가율    1522 non-null   float64       \n",
      " 12  매출액증가율    1522 non-null   float64       \n",
      " 13  당기순이익증가율  1522 non-null   float64       \n",
      " 14  영업이익증가율   1522 non-null   float64       \n",
      " 15  유동비율      1522 non-null   float64       \n",
      " 16  자산회전율     1522 non-null   float64       \n",
      " 17  부채회전율     1522 non-null   float64       \n",
      " 18  자본회전율     1522 non-null   float64       \n",
      " 19  총매출액규모    1522 non-null   float64       \n",
      " 20  총자산규모     1522 non-null   float64       \n",
      " 21  GDP성장률    1522 non-null   float64       \n",
      " 22  원달러환율     1522 non-null   float64       \n",
      " 23  CD91일     1522 non-null   float64       \n",
      " 24  코스닥종가     1522 non-null   float64       \n",
      " 25  전산업생산지수   1522 non-null   float64       \n",
      " 26  경제심리지수    1522 non-null   float64       \n",
      " 27  뉴스심리지수    1522 non-null   float64       \n",
      " 28  부도        1522 non-null   int64         \n",
      " 29  폐지일       87 non-null     datetime64[ns]\n",
      "dtypes: datetime64[ns](2), float64(23), int64(3), object(2)\n",
      "memory usage: 356.8+ KB\n"
     ]
    }
   ],
   "source": [
    "data.info()"
   ]
  },
  {
   "cell_type": "markdown",
   "id": "433ce99b",
   "metadata": {},
   "source": [
    "# 3. train test split"
   ]
  },
  {
   "cell_type": "code",
   "execution_count": 99,
   "id": "9cad4766",
   "metadata": {},
   "outputs": [],
   "source": [
    "X = data.drop(['기업명', '종목코드', '상장일', '기준연도', '폐지일', '부도'], axis=1)\n",
    "y = data['부도']"
   ]
  },
  {
   "cell_type": "code",
   "execution_count": 100,
   "metadata": {},
   "outputs": [
    {
     "data": {
      "text/plain": [
       "(1522, 24)"
      ]
     },
     "execution_count": 100,
     "metadata": {},
     "output_type": "execute_result"
    }
   ],
   "source": [
    "X.shape"
   ]
  },
  {
   "cell_type": "code",
   "execution_count": 101,
   "id": "426a5bd6",
   "metadata": {},
   "outputs": [],
   "source": [
    "from sklearn.model_selection import train_test_split\n",
    "\n",
    "train_X, test_X, train_y, test_y = train_test_split(X, y, test_size=0.2, random_state=42)"
   ]
  },
  {
   "cell_type": "code",
   "execution_count": 102,
   "metadata": {},
   "outputs": [
    {
     "data": {
      "text/plain": [
       "((1217, 24), (305, 24), (1217,), (305,))"
      ]
     },
     "execution_count": 102,
     "metadata": {},
     "output_type": "execute_result"
    }
   ],
   "source": [
    "train_X.shape, test_X.shape, train_y.shape, test_y.shape"
   ]
  },
  {
   "cell_type": "code",
   "execution_count": 103,
   "id": "bc6cf82a",
   "metadata": {},
   "outputs": [
    {
     "data": {
      "text/html": [
       "<div>\n",
       "<style scoped>\n",
       "    .dataframe tbody tr th:only-of-type {\n",
       "        vertical-align: middle;\n",
       "    }\n",
       "\n",
       "    .dataframe tbody tr th {\n",
       "        vertical-align: top;\n",
       "    }\n",
       "\n",
       "    .dataframe thead th {\n",
       "        text-align: right;\n",
       "    }\n",
       "</style>\n",
       "<table border=\"1\" class=\"dataframe\">\n",
       "  <thead>\n",
       "    <tr style=\"text-align: right;\">\n",
       "      <th></th>\n",
       "      <th>지속기간</th>\n",
       "      <th>부채비율</th>\n",
       "      <th>자기자본비율</th>\n",
       "      <th>총자산영업이익율</th>\n",
       "      <th>ROA</th>\n",
       "      <th>ROE</th>\n",
       "      <th>매출액영업이익율</th>\n",
       "      <th>총자산증가율</th>\n",
       "      <th>매출액증가율</th>\n",
       "      <th>당기순이익증가율</th>\n",
       "      <th>영업이익증가율</th>\n",
       "      <th>유동비율</th>\n",
       "      <th>자산회전율</th>\n",
       "      <th>부채회전율</th>\n",
       "      <th>자본회전율</th>\n",
       "      <th>총매출액규모</th>\n",
       "      <th>총자산규모</th>\n",
       "      <th>GDP성장률</th>\n",
       "      <th>원달러환율</th>\n",
       "      <th>CD91일</th>\n",
       "      <th>코스닥종가</th>\n",
       "      <th>전산업생산지수</th>\n",
       "      <th>경제심리지수</th>\n",
       "      <th>뉴스심리지수</th>\n",
       "    </tr>\n",
       "  </thead>\n",
       "  <tbody>\n",
       "    <tr>\n",
       "      <th>1279</th>\n",
       "      <td>6846</td>\n",
       "      <td>53.757556</td>\n",
       "      <td>0.650375</td>\n",
       "      <td>0.001696</td>\n",
       "      <td>0.010262</td>\n",
       "      <td>0.015766</td>\n",
       "      <td>0.007433</td>\n",
       "      <td>5.575008</td>\n",
       "      <td>5.990395</td>\n",
       "      <td>-21.150772</td>\n",
       "      <td>-443.470011</td>\n",
       "      <td>3.590756</td>\n",
       "      <td>0.228236</td>\n",
       "      <td>0.652802</td>\n",
       "      <td>0.350930</td>\n",
       "      <td>25.405702</td>\n",
       "      <td>26.883076</td>\n",
       "      <td>2.61</td>\n",
       "      <td>1291.4</td>\n",
       "      <td>2.49</td>\n",
       "      <td>679.29</td>\n",
       "      <td>110.1</td>\n",
       "      <td>100.28</td>\n",
       "      <td>94.21</td>\n",
       "    </tr>\n",
       "    <tr>\n",
       "      <th>81</th>\n",
       "      <td>8708</td>\n",
       "      <td>295.241389</td>\n",
       "      <td>0.253010</td>\n",
       "      <td>0.034108</td>\n",
       "      <td>0.053410</td>\n",
       "      <td>0.230802</td>\n",
       "      <td>0.021797</td>\n",
       "      <td>39.218650</td>\n",
       "      <td>14.140817</td>\n",
       "      <td>-33.812269</td>\n",
       "      <td>-108.034685</td>\n",
       "      <td>1.119656</td>\n",
       "      <td>1.564759</td>\n",
       "      <td>2.094753</td>\n",
       "      <td>6.184577</td>\n",
       "      <td>28.051922</td>\n",
       "      <td>27.604190</td>\n",
       "      <td>2.61</td>\n",
       "      <td>1291.4</td>\n",
       "      <td>2.49</td>\n",
       "      <td>679.29</td>\n",
       "      <td>110.1</td>\n",
       "      <td>100.28</td>\n",
       "      <td>94.21</td>\n",
       "    </tr>\n",
       "  </tbody>\n",
       "</table>\n",
       "</div>"
      ],
      "text/plain": [
       "      지속기간        부채비율    자기자본비율  총자산영업이익율       ROA       ROE  매출액영업이익율  \\\n",
       "1279  6846   53.757556  0.650375  0.001696  0.010262  0.015766  0.007433   \n",
       "81    8708  295.241389  0.253010  0.034108  0.053410  0.230802  0.021797   \n",
       "\n",
       "         총자산증가율     매출액증가율   당기순이익증가율     영업이익증가율      유동비율     자산회전율  \\\n",
       "1279   5.575008   5.990395 -21.150772 -443.470011  3.590756  0.228236   \n",
       "81    39.218650  14.140817 -33.812269 -108.034685  1.119656  1.564759   \n",
       "\n",
       "         부채회전율     자본회전율     총매출액규모      총자산규모  GDP성장률   원달러환율  CD91일   코스닥종가  \\\n",
       "1279  0.652802  0.350930  25.405702  26.883076    2.61  1291.4   2.49  679.29   \n",
       "81    2.094753  6.184577  28.051922  27.604190    2.61  1291.4   2.49  679.29   \n",
       "\n",
       "      전산업생산지수  경제심리지수  뉴스심리지수  \n",
       "1279    110.1  100.28   94.21  \n",
       "81      110.1  100.28   94.21  "
      ]
     },
     "execution_count": 103,
     "metadata": {},
     "output_type": "execute_result"
    }
   ],
   "source": [
    "train_X.head(2)"
   ]
  },
  {
   "cell_type": "markdown",
   "metadata": {},
   "source": [
    "# 4. Scaling"
   ]
  },
  {
   "cell_type": "code",
   "execution_count": 104,
   "metadata": {},
   "outputs": [
    {
     "data": {
      "text/html": [
       "<div>\n",
       "<style scoped>\n",
       "    .dataframe tbody tr th:only-of-type {\n",
       "        vertical-align: middle;\n",
       "    }\n",
       "\n",
       "    .dataframe tbody tr th {\n",
       "        vertical-align: top;\n",
       "    }\n",
       "\n",
       "    .dataframe thead th {\n",
       "        text-align: right;\n",
       "    }\n",
       "</style>\n",
       "<table border=\"1\" class=\"dataframe\">\n",
       "  <thead>\n",
       "    <tr style=\"text-align: right;\">\n",
       "      <th></th>\n",
       "      <th>지속기간</th>\n",
       "      <th>부채비율</th>\n",
       "      <th>자기자본비율</th>\n",
       "      <th>총자산영업이익율</th>\n",
       "      <th>ROA</th>\n",
       "      <th>ROE</th>\n",
       "      <th>매출액영업이익율</th>\n",
       "      <th>총자산증가율</th>\n",
       "      <th>매출액증가율</th>\n",
       "      <th>당기순이익증가율</th>\n",
       "      <th>영업이익증가율</th>\n",
       "      <th>유동비율</th>\n",
       "      <th>자산회전율</th>\n",
       "      <th>부채회전율</th>\n",
       "      <th>자본회전율</th>\n",
       "      <th>총매출액규모</th>\n",
       "      <th>총자산규모</th>\n",
       "      <th>GDP성장률</th>\n",
       "      <th>원달러환율</th>\n",
       "      <th>CD91일</th>\n",
       "      <th>코스닥종가</th>\n",
       "      <th>전산업생산지수</th>\n",
       "      <th>경제심리지수</th>\n",
       "      <th>뉴스심리지수</th>\n",
       "    </tr>\n",
       "  </thead>\n",
       "  <tbody>\n",
       "    <tr>\n",
       "      <th>1279</th>\n",
       "      <td>6846</td>\n",
       "      <td>53.757556</td>\n",
       "      <td>0.650375</td>\n",
       "      <td>0.001696</td>\n",
       "      <td>0.010262</td>\n",
       "      <td>0.015766</td>\n",
       "      <td>0.007433</td>\n",
       "      <td>5.575008</td>\n",
       "      <td>5.990395</td>\n",
       "      <td>-21.150772</td>\n",
       "      <td>-443.470011</td>\n",
       "      <td>3.590756</td>\n",
       "      <td>0.228236</td>\n",
       "      <td>0.652802</td>\n",
       "      <td>0.350930</td>\n",
       "      <td>25.405702</td>\n",
       "      <td>26.883076</td>\n",
       "      <td>2.61</td>\n",
       "      <td>1291.4</td>\n",
       "      <td>2.49</td>\n",
       "      <td>679.29</td>\n",
       "      <td>110.1</td>\n",
       "      <td>100.28</td>\n",
       "      <td>94.21</td>\n",
       "    </tr>\n",
       "    <tr>\n",
       "      <th>81</th>\n",
       "      <td>8708</td>\n",
       "      <td>295.241389</td>\n",
       "      <td>0.253010</td>\n",
       "      <td>0.034108</td>\n",
       "      <td>0.053410</td>\n",
       "      <td>0.230802</td>\n",
       "      <td>0.021797</td>\n",
       "      <td>39.218650</td>\n",
       "      <td>14.140817</td>\n",
       "      <td>-33.812269</td>\n",
       "      <td>-108.034685</td>\n",
       "      <td>1.119656</td>\n",
       "      <td>1.564759</td>\n",
       "      <td>2.094753</td>\n",
       "      <td>6.184577</td>\n",
       "      <td>28.051922</td>\n",
       "      <td>27.604190</td>\n",
       "      <td>2.61</td>\n",
       "      <td>1291.4</td>\n",
       "      <td>2.49</td>\n",
       "      <td>679.29</td>\n",
       "      <td>110.1</td>\n",
       "      <td>100.28</td>\n",
       "      <td>94.21</td>\n",
       "    </tr>\n",
       "    <tr>\n",
       "      <th>1425</th>\n",
       "      <td>1133</td>\n",
       "      <td>68.510592</td>\n",
       "      <td>0.593435</td>\n",
       "      <td>0.099035</td>\n",
       "      <td>0.038440</td>\n",
       "      <td>0.065410</td>\n",
       "      <td>0.087390</td>\n",
       "      <td>10.038812</td>\n",
       "      <td>20.431310</td>\n",
       "      <td>-41.014341</td>\n",
       "      <td>52.233493</td>\n",
       "      <td>1.323628</td>\n",
       "      <td>1.133261</td>\n",
       "      <td>2.787401</td>\n",
       "      <td>1.909665</td>\n",
       "      <td>25.996203</td>\n",
       "      <td>25.871103</td>\n",
       "      <td>2.61</td>\n",
       "      <td>1291.4</td>\n",
       "      <td>2.49</td>\n",
       "      <td>679.29</td>\n",
       "      <td>110.1</td>\n",
       "      <td>100.28</td>\n",
       "      <td>94.21</td>\n",
       "    </tr>\n",
       "    <tr>\n",
       "      <th>1033</th>\n",
       "      <td>7238</td>\n",
       "      <td>35.671961</td>\n",
       "      <td>0.737072</td>\n",
       "      <td>-0.008471</td>\n",
       "      <td>0.264934</td>\n",
       "      <td>0.444440</td>\n",
       "      <td>-0.040286</td>\n",
       "      <td>9.921957</td>\n",
       "      <td>3.589038</td>\n",
       "      <td>111.162384</td>\n",
       "      <td>-131.147855</td>\n",
       "      <td>3.059514</td>\n",
       "      <td>0.210268</td>\n",
       "      <td>0.799717</td>\n",
       "      <td>0.285275</td>\n",
       "      <td>23.850424</td>\n",
       "      <td>25.409796</td>\n",
       "      <td>2.61</td>\n",
       "      <td>1291.4</td>\n",
       "      <td>2.49</td>\n",
       "      <td>679.29</td>\n",
       "      <td>110.1</td>\n",
       "      <td>100.28</td>\n",
       "      <td>94.21</td>\n",
       "    </tr>\n",
       "    <tr>\n",
       "      <th>1172</th>\n",
       "      <td>4774</td>\n",
       "      <td>63.547444</td>\n",
       "      <td>0.611443</td>\n",
       "      <td>-0.129295</td>\n",
       "      <td>-0.987039</td>\n",
       "      <td>-0.949737</td>\n",
       "      <td>-1.151751</td>\n",
       "      <td>-93.401284</td>\n",
       "      <td>-45.997471</td>\n",
       "      <td>31.608254</td>\n",
       "      <td>6.755652</td>\n",
       "      <td>0.547695</td>\n",
       "      <td>0.112260</td>\n",
       "      <td>0.288915</td>\n",
       "      <td>0.183598</td>\n",
       "      <td>22.655886</td>\n",
       "      <td>24.842826</td>\n",
       "      <td>2.61</td>\n",
       "      <td>1291.4</td>\n",
       "      <td>2.49</td>\n",
       "      <td>679.29</td>\n",
       "      <td>110.1</td>\n",
       "      <td>100.28</td>\n",
       "      <td>94.21</td>\n",
       "    </tr>\n",
       "    <tr>\n",
       "      <th>111</th>\n",
       "      <td>10163</td>\n",
       "      <td>177.770564</td>\n",
       "      <td>0.360009</td>\n",
       "      <td>0.007672</td>\n",
       "      <td>0.015022</td>\n",
       "      <td>0.042897</td>\n",
       "      <td>0.009896</td>\n",
       "      <td>44.395443</td>\n",
       "      <td>7.700744</td>\n",
       "      <td>-0.914019</td>\n",
       "      <td>-90.742796</td>\n",
       "      <td>0.889228</td>\n",
       "      <td>0.775292</td>\n",
       "      <td>1.211411</td>\n",
       "      <td>2.153533</td>\n",
       "      <td>24.803173</td>\n",
       "      <td>25.057689</td>\n",
       "      <td>2.61</td>\n",
       "      <td>1291.4</td>\n",
       "      <td>2.49</td>\n",
       "      <td>679.29</td>\n",
       "      <td>110.1</td>\n",
       "      <td>100.28</td>\n",
       "      <td>94.21</td>\n",
       "    </tr>\n",
       "    <tr>\n",
       "      <th>1296</th>\n",
       "      <td>1441</td>\n",
       "      <td>60.479955</td>\n",
       "      <td>0.623131</td>\n",
       "      <td>-0.073245</td>\n",
       "      <td>-0.169370</td>\n",
       "      <td>-0.278274</td>\n",
       "      <td>-0.300194</td>\n",
       "      <td>-10.248669</td>\n",
       "      <td>-39.567754</td>\n",
       "      <td>16.481461</td>\n",
       "      <td>-38.147798</td>\n",
       "      <td>0.479562</td>\n",
       "      <td>0.243991</td>\n",
       "      <td>0.647417</td>\n",
       "      <td>0.391557</td>\n",
       "      <td>22.743539</td>\n",
       "      <td>24.154161</td>\n",
       "      <td>2.61</td>\n",
       "      <td>1291.4</td>\n",
       "      <td>2.49</td>\n",
       "      <td>679.29</td>\n",
       "      <td>110.1</td>\n",
       "      <td>100.28</td>\n",
       "      <td>94.21</td>\n",
       "    </tr>\n",
       "  </tbody>\n",
       "</table>\n",
       "</div>"
      ],
      "text/plain": [
       "       지속기간        부채비율    자기자본비율  총자산영업이익율       ROA       ROE  매출액영업이익율  \\\n",
       "1279   6846   53.757556  0.650375  0.001696  0.010262  0.015766  0.007433   \n",
       "81     8708  295.241389  0.253010  0.034108  0.053410  0.230802  0.021797   \n",
       "1425   1133   68.510592  0.593435  0.099035  0.038440  0.065410  0.087390   \n",
       "1033   7238   35.671961  0.737072 -0.008471  0.264934  0.444440 -0.040286   \n",
       "1172   4774   63.547444  0.611443 -0.129295 -0.987039 -0.949737 -1.151751   \n",
       "111   10163  177.770564  0.360009  0.007672  0.015022  0.042897  0.009896   \n",
       "1296   1441   60.479955  0.623131 -0.073245 -0.169370 -0.278274 -0.300194   \n",
       "\n",
       "         총자산증가율     매출액증가율    당기순이익증가율     영업이익증가율      유동비율     자산회전율  \\\n",
       "1279   5.575008   5.990395  -21.150772 -443.470011  3.590756  0.228236   \n",
       "81    39.218650  14.140817  -33.812269 -108.034685  1.119656  1.564759   \n",
       "1425  10.038812  20.431310  -41.014341   52.233493  1.323628  1.133261   \n",
       "1033   9.921957   3.589038  111.162384 -131.147855  3.059514  0.210268   \n",
       "1172 -93.401284 -45.997471   31.608254    6.755652  0.547695  0.112260   \n",
       "111   44.395443   7.700744   -0.914019  -90.742796  0.889228  0.775292   \n",
       "1296 -10.248669 -39.567754   16.481461  -38.147798  0.479562  0.243991   \n",
       "\n",
       "         부채회전율     자본회전율     총매출액규모      총자산규모  GDP성장률   원달러환율  CD91일   코스닥종가  \\\n",
       "1279  0.652802  0.350930  25.405702  26.883076    2.61  1291.4   2.49  679.29   \n",
       "81    2.094753  6.184577  28.051922  27.604190    2.61  1291.4   2.49  679.29   \n",
       "1425  2.787401  1.909665  25.996203  25.871103    2.61  1291.4   2.49  679.29   \n",
       "1033  0.799717  0.285275  23.850424  25.409796    2.61  1291.4   2.49  679.29   \n",
       "1172  0.288915  0.183598  22.655886  24.842826    2.61  1291.4   2.49  679.29   \n",
       "111   1.211411  2.153533  24.803173  25.057689    2.61  1291.4   2.49  679.29   \n",
       "1296  0.647417  0.391557  22.743539  24.154161    2.61  1291.4   2.49  679.29   \n",
       "\n",
       "      전산업생산지수  경제심리지수  뉴스심리지수  \n",
       "1279    110.1  100.28   94.21  \n",
       "81      110.1  100.28   94.21  \n",
       "1425    110.1  100.28   94.21  \n",
       "1033    110.1  100.28   94.21  \n",
       "1172    110.1  100.28   94.21  \n",
       "111     110.1  100.28   94.21  \n",
       "1296    110.1  100.28   94.21  "
      ]
     },
     "execution_count": 104,
     "metadata": {},
     "output_type": "execute_result"
    }
   ],
   "source": [
    "train_X.head(7)"
   ]
  },
  {
   "cell_type": "code",
   "execution_count": 105,
   "metadata": {},
   "outputs": [],
   "source": [
    "from sklearn.preprocessing import StandardScaler\n",
    "import pandas as pd\n",
    "\n",
    "scaler = StandardScaler()\n",
    "\n",
    "cols = train_X.columns\n",
    "idx_tr = train_X.index\n",
    "idx_te = test_X.index\n",
    "\n",
    "# DataFrame으로 변환 후 Scaler 적용\n",
    "train_X = pd.DataFrame(scaler.fit_transform(train_X), columns=cols, index=idx_tr)\n",
    "test_X = pd.DataFrame(scaler.transform(test_X), columns=cols, index=idx_te)"
   ]
  },
  {
   "cell_type": "code",
   "execution_count": 106,
   "metadata": {},
   "outputs": [
    {
     "data": {
      "text/html": [
       "<div>\n",
       "<style scoped>\n",
       "    .dataframe tbody tr th:only-of-type {\n",
       "        vertical-align: middle;\n",
       "    }\n",
       "\n",
       "    .dataframe tbody tr th {\n",
       "        vertical-align: top;\n",
       "    }\n",
       "\n",
       "    .dataframe thead th {\n",
       "        text-align: right;\n",
       "    }\n",
       "</style>\n",
       "<table border=\"1\" class=\"dataframe\">\n",
       "  <thead>\n",
       "    <tr style=\"text-align: right;\">\n",
       "      <th></th>\n",
       "      <th>지속기간</th>\n",
       "      <th>부채비율</th>\n",
       "      <th>자기자본비율</th>\n",
       "      <th>총자산영업이익율</th>\n",
       "      <th>ROA</th>\n",
       "      <th>ROE</th>\n",
       "      <th>매출액영업이익율</th>\n",
       "      <th>총자산증가율</th>\n",
       "      <th>매출액증가율</th>\n",
       "      <th>당기순이익증가율</th>\n",
       "      <th>영업이익증가율</th>\n",
       "      <th>유동비율</th>\n",
       "      <th>자산회전율</th>\n",
       "      <th>부채회전율</th>\n",
       "      <th>자본회전율</th>\n",
       "      <th>총매출액규모</th>\n",
       "      <th>총자산규모</th>\n",
       "      <th>GDP성장률</th>\n",
       "      <th>원달러환율</th>\n",
       "      <th>CD91일</th>\n",
       "      <th>코스닥종가</th>\n",
       "      <th>전산업생산지수</th>\n",
       "      <th>경제심리지수</th>\n",
       "      <th>뉴스심리지수</th>\n",
       "    </tr>\n",
       "  </thead>\n",
       "  <tbody>\n",
       "    <tr>\n",
       "      <th>1279</th>\n",
       "      <td>0.569487</td>\n",
       "      <td>-0.144282</td>\n",
       "      <td>0.219479</td>\n",
       "      <td>0.045882</td>\n",
       "      <td>0.203046</td>\n",
       "      <td>0.099474</td>\n",
       "      <td>0.037661</td>\n",
       "      <td>0.171676</td>\n",
       "      <td>0.036516</td>\n",
       "      <td>-0.003324</td>\n",
       "      <td>-0.626682</td>\n",
       "      <td>0.081248</td>\n",
       "      <td>-1.011632</td>\n",
       "      <td>-0.767653</td>\n",
       "      <td>-0.463091</td>\n",
       "      <td>0.249700</td>\n",
       "      <td>1.001909</td>\n",
       "      <td>0.066897</td>\n",
       "      <td>0.230381</td>\n",
       "      <td>0.222797</td>\n",
       "      <td>-0.16273</td>\n",
       "      <td>0.222095</td>\n",
       "      <td>0.143297</td>\n",
       "      <td>-0.182148</td>\n",
       "    </tr>\n",
       "    <tr>\n",
       "      <th>81</th>\n",
       "      <td>1.190862</td>\n",
       "      <td>0.637741</td>\n",
       "      <td>-1.194185</td>\n",
       "      <td>0.253265</td>\n",
       "      <td>0.341916</td>\n",
       "      <td>0.254117</td>\n",
       "      <td>0.037873</td>\n",
       "      <td>1.020212</td>\n",
       "      <td>0.050238</td>\n",
       "      <td>-0.009571</td>\n",
       "      <td>-0.162656</td>\n",
       "      <td>-0.332657</td>\n",
       "      <td>1.766250</td>\n",
       "      <td>-0.144732</td>\n",
       "      <td>1.997024</td>\n",
       "      <td>1.838046</td>\n",
       "      <td>1.562452</td>\n",
       "      <td>0.066897</td>\n",
       "      <td>0.230381</td>\n",
       "      <td>0.222797</td>\n",
       "      <td>-0.16273</td>\n",
       "      <td>0.222095</td>\n",
       "      <td>0.143297</td>\n",
       "      <td>-0.182148</td>\n",
       "    </tr>\n",
       "    <tr>\n",
       "      <th>1425</th>\n",
       "      <td>-1.337018</td>\n",
       "      <td>-0.096506</td>\n",
       "      <td>0.016909</td>\n",
       "      <td>0.668706</td>\n",
       "      <td>0.293735</td>\n",
       "      <td>0.135175</td>\n",
       "      <td>0.038841</td>\n",
       "      <td>0.284259</td>\n",
       "      <td>0.060829</td>\n",
       "      <td>-0.013125</td>\n",
       "      <td>0.059052</td>\n",
       "      <td>-0.298492</td>\n",
       "      <td>0.869406</td>\n",
       "      <td>0.154491</td>\n",
       "      <td>0.194245</td>\n",
       "      <td>0.604138</td>\n",
       "      <td>0.215273</td>\n",
       "      <td>0.066897</td>\n",
       "      <td>0.230381</td>\n",
       "      <td>0.222797</td>\n",
       "      <td>-0.16273</td>\n",
       "      <td>0.222095</td>\n",
       "      <td>0.143297</td>\n",
       "      <td>-0.182148</td>\n",
       "    </tr>\n",
       "    <tr>\n",
       "      <th>1033</th>\n",
       "      <td>0.700303</td>\n",
       "      <td>-0.202851</td>\n",
       "      <td>0.527913</td>\n",
       "      <td>-0.019172</td>\n",
       "      <td>1.022706</td>\n",
       "      <td>0.407754</td>\n",
       "      <td>0.036957</td>\n",
       "      <td>0.281311</td>\n",
       "      <td>0.032473</td>\n",
       "      <td>0.061957</td>\n",
       "      <td>-0.194630</td>\n",
       "      <td>-0.007735</td>\n",
       "      <td>-1.048978</td>\n",
       "      <td>-0.704186</td>\n",
       "      <td>-0.490778</td>\n",
       "      <td>-0.683827</td>\n",
       "      <td>-0.143314</td>\n",
       "      <td>0.066897</td>\n",
       "      <td>0.230381</td>\n",
       "      <td>0.222797</td>\n",
       "      <td>-0.16273</td>\n",
       "      <td>0.222095</td>\n",
       "      <td>0.143297</td>\n",
       "      <td>-0.182148</td>\n",
       "    </tr>\n",
       "    <tr>\n",
       "      <th>1172</th>\n",
       "      <td>-0.121967</td>\n",
       "      <td>-0.112579</td>\n",
       "      <td>0.080977</td>\n",
       "      <td>-0.792269</td>\n",
       "      <td>-3.006770</td>\n",
       "      <td>-0.594869</td>\n",
       "      <td>0.020558</td>\n",
       "      <td>-2.324635</td>\n",
       "      <td>-0.051012</td>\n",
       "      <td>0.022706</td>\n",
       "      <td>-0.003860</td>\n",
       "      <td>-0.428460</td>\n",
       "      <td>-1.252682</td>\n",
       "      <td>-0.924852</td>\n",
       "      <td>-0.533657</td>\n",
       "      <td>-1.400827</td>\n",
       "      <td>-0.584037</td>\n",
       "      <td>0.066897</td>\n",
       "      <td>0.230381</td>\n",
       "      <td>0.222797</td>\n",
       "      <td>-0.16273</td>\n",
       "      <td>0.222095</td>\n",
       "      <td>0.143297</td>\n",
       "      <td>-0.182148</td>\n",
       "    </tr>\n",
       "    <tr>\n",
       "      <th>111</th>\n",
       "      <td>1.676415</td>\n",
       "      <td>0.257322</td>\n",
       "      <td>-0.813524</td>\n",
       "      <td>0.084117</td>\n",
       "      <td>0.218366</td>\n",
       "      <td>0.118984</td>\n",
       "      <td>0.037698</td>\n",
       "      <td>1.150778</td>\n",
       "      <td>0.039396</td>\n",
       "      <td>0.006660</td>\n",
       "      <td>-0.138735</td>\n",
       "      <td>-0.371253</td>\n",
       "      <td>0.125390</td>\n",
       "      <td>-0.526334</td>\n",
       "      <td>0.297087</td>\n",
       "      <td>-0.111957</td>\n",
       "      <td>-0.417017</td>\n",
       "      <td>0.066897</td>\n",
       "      <td>0.230381</td>\n",
       "      <td>0.222797</td>\n",
       "      <td>-0.16273</td>\n",
       "      <td>0.222095</td>\n",
       "      <td>0.143297</td>\n",
       "      <td>-0.182148</td>\n",
       "    </tr>\n",
       "    <tr>\n",
       "      <th>1296</th>\n",
       "      <td>-1.234234</td>\n",
       "      <td>-0.122512</td>\n",
       "      <td>0.122556</td>\n",
       "      <td>-0.433629</td>\n",
       "      <td>-0.375101</td>\n",
       "      <td>-0.111986</td>\n",
       "      <td>0.033123</td>\n",
       "      <td>-0.227418</td>\n",
       "      <td>-0.040186</td>\n",
       "      <td>0.015243</td>\n",
       "      <td>-0.065978</td>\n",
       "      <td>-0.439872</td>\n",
       "      <td>-0.978886</td>\n",
       "      <td>-0.769980</td>\n",
       "      <td>-0.445958</td>\n",
       "      <td>-1.348215</td>\n",
       "      <td>-1.119355</td>\n",
       "      <td>0.066897</td>\n",
       "      <td>0.230381</td>\n",
       "      <td>0.222797</td>\n",
       "      <td>-0.16273</td>\n",
       "      <td>0.222095</td>\n",
       "      <td>0.143297</td>\n",
       "      <td>-0.182148</td>\n",
       "    </tr>\n",
       "  </tbody>\n",
       "</table>\n",
       "</div>"
      ],
      "text/plain": [
       "          지속기간      부채비율    자기자본비율  총자산영업이익율       ROA       ROE  매출액영업이익율  \\\n",
       "1279  0.569487 -0.144282  0.219479  0.045882  0.203046  0.099474  0.037661   \n",
       "81    1.190862  0.637741 -1.194185  0.253265  0.341916  0.254117  0.037873   \n",
       "1425 -1.337018 -0.096506  0.016909  0.668706  0.293735  0.135175  0.038841   \n",
       "1033  0.700303 -0.202851  0.527913 -0.019172  1.022706  0.407754  0.036957   \n",
       "1172 -0.121967 -0.112579  0.080977 -0.792269 -3.006770 -0.594869  0.020558   \n",
       "111   1.676415  0.257322 -0.813524  0.084117  0.218366  0.118984  0.037698   \n",
       "1296 -1.234234 -0.122512  0.122556 -0.433629 -0.375101 -0.111986  0.033123   \n",
       "\n",
       "        총자산증가율    매출액증가율  당기순이익증가율   영업이익증가율      유동비율     자산회전율     부채회전율  \\\n",
       "1279  0.171676  0.036516 -0.003324 -0.626682  0.081248 -1.011632 -0.767653   \n",
       "81    1.020212  0.050238 -0.009571 -0.162656 -0.332657  1.766250 -0.144732   \n",
       "1425  0.284259  0.060829 -0.013125  0.059052 -0.298492  0.869406  0.154491   \n",
       "1033  0.281311  0.032473  0.061957 -0.194630 -0.007735 -1.048978 -0.704186   \n",
       "1172 -2.324635 -0.051012  0.022706 -0.003860 -0.428460 -1.252682 -0.924852   \n",
       "111   1.150778  0.039396  0.006660 -0.138735 -0.371253  0.125390 -0.526334   \n",
       "1296 -0.227418 -0.040186  0.015243 -0.065978 -0.439872 -0.978886 -0.769980   \n",
       "\n",
       "         자본회전율    총매출액규모     총자산규모    GDP성장률     원달러환율     CD91일    코스닥종가  \\\n",
       "1279 -0.463091  0.249700  1.001909  0.066897  0.230381  0.222797 -0.16273   \n",
       "81    1.997024  1.838046  1.562452  0.066897  0.230381  0.222797 -0.16273   \n",
       "1425  0.194245  0.604138  0.215273  0.066897  0.230381  0.222797 -0.16273   \n",
       "1033 -0.490778 -0.683827 -0.143314  0.066897  0.230381  0.222797 -0.16273   \n",
       "1172 -0.533657 -1.400827 -0.584037  0.066897  0.230381  0.222797 -0.16273   \n",
       "111   0.297087 -0.111957 -0.417017  0.066897  0.230381  0.222797 -0.16273   \n",
       "1296 -0.445958 -1.348215 -1.119355  0.066897  0.230381  0.222797 -0.16273   \n",
       "\n",
       "       전산업생산지수    경제심리지수    뉴스심리지수  \n",
       "1279  0.222095  0.143297 -0.182148  \n",
       "81    0.222095  0.143297 -0.182148  \n",
       "1425  0.222095  0.143297 -0.182148  \n",
       "1033  0.222095  0.143297 -0.182148  \n",
       "1172  0.222095  0.143297 -0.182148  \n",
       "111   0.222095  0.143297 -0.182148  \n",
       "1296  0.222095  0.143297 -0.182148  "
      ]
     },
     "execution_count": 106,
     "metadata": {},
     "output_type": "execute_result"
    }
   ],
   "source": [
    "train_X.head(7)"
   ]
  },
  {
   "cell_type": "markdown",
   "metadata": {},
   "source": [
    "# 5. SMOTE"
   ]
  },
  {
   "cell_type": "code",
   "execution_count": 107,
   "metadata": {},
   "outputs": [
    {
     "data": {
      "text/plain": [
       "0    1148\n",
       "1      69\n",
       "Name: 부도, dtype: int64"
      ]
     },
     "execution_count": 107,
     "metadata": {},
     "output_type": "execute_result"
    }
   ],
   "source": [
    "train_y.value_counts()"
   ]
  },
  {
   "cell_type": "code",
   "execution_count": 108,
   "metadata": {},
   "outputs": [
    {
     "data": {
      "text/plain": [
       "0    287\n",
       "1     18\n",
       "Name: 부도, dtype: int64"
      ]
     },
     "execution_count": 108,
     "metadata": {},
     "output_type": "execute_result"
    }
   ],
   "source": [
    "test_y.value_counts()"
   ]
  },
  {
   "cell_type": "code",
   "execution_count": 109,
   "metadata": {},
   "outputs": [
    {
     "name": "stdout",
     "output_type": "stream",
     "text": [
      "SMOTE 적용 전 training set: (1217, 24) (1217,)\n",
      "SMOTE 적용 전 부도여부 count:\n",
      " 0    1148\n",
      "1      69\n",
      "Name: 부도, dtype: int64\n",
      "----------- SMOTE 적용 -----------\n",
      "SMOTE 적용 후 training set: (2296, 24) (2296,)\n",
      "SMOTE 적용 후 부도여부 count:\n",
      " 0    1148\n",
      "1    1148\n",
      "Name: 부도, dtype: int64\n"
     ]
    }
   ],
   "source": [
    "from imblearn.over_sampling import SMOTE\n",
    "smote = SMOTE(random_state=42)\n",
    "\n",
    "# Use fit_resample instead of fit_sample\n",
    "train_X_over, train_y_over = smote.fit_resample(train_X, train_y)\n",
    "\n",
    "print(\"SMOTE 적용 전 training set:\", train_X.shape, train_y.shape)\n",
    "print(\"SMOTE 적용 전 부도여부 count:\\n\", train_y.value_counts())\n",
    "print(\"----------- SMOTE 적용 -----------\")\n",
    "print(\"SMOTE 적용 후 training set:\", train_X_over.shape, train_y_over.shape)\n",
    "print(\"SMOTE 적용 후 부도여부 count:\\n\", train_y_over.value_counts())"
   ]
  },
  {
   "cell_type": "code",
   "execution_count": 110,
   "metadata": {},
   "outputs": [],
   "source": [
    "train_X = train_X_over.copy()\n",
    "train_y = train_y_over.copy()"
   ]
  },
  {
   "cell_type": "markdown",
   "id": "03b8a7a3",
   "metadata": {},
   "source": [
    "## 6. 기업 부도 예측"
   ]
  },
  {
   "cell_type": "code",
   "execution_count": 111,
   "id": "4be63fd0",
   "metadata": {},
   "outputs": [],
   "source": [
    "from sklearn.model_selection import cross_val_score, GridSearchCV\n",
    "from sklearn.metrics import accuracy_score, f1_score"
   ]
  },
  {
   "cell_type": "markdown",
   "id": "27fe7a03",
   "metadata": {},
   "source": [
    "### DecisionTree"
   ]
  },
  {
   "cell_type": "code",
   "execution_count": 112,
   "id": "b2a139c4",
   "metadata": {},
   "outputs": [
    {
     "name": "stdout",
     "output_type": "stream",
     "text": [
      "Accuracy for DecisionTree : 0.9967213114754099\n",
      "F1_score for DecisionTree : 0.972972972972973\n"
     ]
    }
   ],
   "source": [
    "from sklearn.tree import DecisionTreeClassifier\n",
    "\n",
    "dt = DecisionTreeClassifier(random_state=42)\n",
    "dt.fit(train_X, train_y)\n",
    "\n",
    "print(f\"Accuracy for DecisionTree : {accuracy_score(test_y, dt.predict(test_X))}\")\n",
    "print(f\"F1_score for DecisionTree : {f1_score(test_y, dt.predict(test_X))}\")"
   ]
  },
  {
   "cell_type": "markdown",
   "id": "f378d012",
   "metadata": {},
   "source": [
    "#### DecisionTree Tuning"
   ]
  },
  {
   "cell_type": "code",
   "execution_count": 113,
   "id": "9e59ee4f",
   "metadata": {},
   "outputs": [
    {
     "name": "stdout",
     "output_type": "stream",
     "text": [
      "Best hyperparameters for DecisionTree:  {'max_depth': None, 'min_samples_leaf': 2, 'min_samples_split': 2}\n"
     ]
    }
   ],
   "source": [
    "from sklearn.model_selection import GridSearchCV\n",
    "\n",
    "# Create the random forest regressor\n",
    "dt = DecisionTreeClassifier(random_state=42)\n",
    "\n",
    "# Define the parameter grid to search\n",
    "param_grid = {\n",
    "    'max_depth': [None, 10, 20, 30],\n",
    "    'min_samples_split': [2, 5, 10],\n",
    "    'min_samples_leaf': [1, 2, 4]\n",
    "}\n",
    "\n",
    "# Create a grid search object using the defined parameter grid\n",
    "grid_search_dt = GridSearchCV(estimator=dt, param_grid=param_grid, scoring='f1_macro', cv=5, n_jobs=-1)\n",
    "\n",
    "# Fit the grid search to the training data\n",
    "grid_search_dt.fit(train_X, train_y)\n",
    "\n",
    "# Get the best parameters from the grid search\n",
    "best_params = grid_search_dt.best_params_\n",
    "print(\"Best hyperparameters for DecisionTree: \", grid_search_dt.best_params_)"
   ]
  },
  {
   "cell_type": "code",
   "execution_count": 114,
   "id": "8ee29099",
   "metadata": {},
   "outputs": [
    {
     "name": "stdout",
     "output_type": "stream",
     "text": [
      "Accuracy for DecisionTree : 1.0\n",
      "F1_score for DecisionTree : 1.0\n"
     ]
    }
   ],
   "source": [
    "dt = DecisionTreeClassifier(max_depth=None, min_samples_leaf=2, min_samples_split=2, random_state=42)\n",
    "dt.fit(train_X, train_y)\n",
    "\n",
    "print(f\"Accuracy for DecisionTree : {accuracy_score(test_y, dt.predict(test_X))}\")\n",
    "print(f\"F1_score for DecisionTree : {f1_score(test_y, dt.predict(test_X))}\")"
   ]
  },
  {
   "cell_type": "markdown",
   "id": "2593a623",
   "metadata": {},
   "source": [
    "### RandomForest"
   ]
  },
  {
   "cell_type": "code",
   "execution_count": 115,
   "id": "6cbc5905",
   "metadata": {},
   "outputs": [
    {
     "name": "stdout",
     "output_type": "stream",
     "text": [
      "Accuracy for RandomForest : 0.9967213114754099\n",
      "F1_score for RandomForest : 0.972972972972973\n"
     ]
    }
   ],
   "source": [
    "from sklearn.ensemble import RandomForestClassifier\n",
    "\n",
    "rf = RandomForestClassifier(random_state=42)\n",
    "rf.fit(train_X, train_y)\n",
    "\n",
    "print(f\"Accuracy for RandomForest : {accuracy_score(test_y, rf.predict(test_X))}\")\n",
    "print(f\"F1_score for RandomForest : {f1_score(test_y, rf.predict(test_X))}\")"
   ]
  },
  {
   "cell_type": "markdown",
   "id": "a6fd48d9",
   "metadata": {},
   "source": [
    "#### RandomForest Tuning"
   ]
  },
  {
   "cell_type": "code",
   "execution_count": 116,
   "id": "27a51bd4",
   "metadata": {},
   "outputs": [
    {
     "name": "stdout",
     "output_type": "stream",
     "text": [
      "Best hyperparameters for RandomForest:  {'max_depth': 10, 'min_samples_leaf': 1, 'min_samples_split': 5, 'n_estimators': 50}\n"
     ]
    }
   ],
   "source": [
    "from sklearn.model_selection import GridSearchCV\n",
    "\n",
    "# Create the random forest regressor\n",
    "rf = RandomForestClassifier(random_state=42)\n",
    "\n",
    "# Define the parameter grid to search\n",
    "param_grid = {\n",
    "    'n_estimators': [50, 100],\n",
    "    'max_depth': [5, 10],\n",
    "    'min_samples_split': [5, 10],\n",
    "    'min_samples_leaf': [1, 2, 4]\n",
    "}\n",
    "\n",
    "# Create a grid search object using the defined parameter grid\n",
    "grid_search_rf = GridSearchCV(estimator=rf, param_grid=param_grid, scoring='f1_macro', cv=5, n_jobs=-1)\n",
    "\n",
    "# Fit the grid search to the training data\n",
    "grid_search_rf.fit(train_X, train_y)\n",
    "\n",
    "# Get the best parameters from the grid search\n",
    "best_params = grid_search_rf.best_params_\n",
    "print(\"Best hyperparameters for RandomForest: \", grid_search_rf.best_params_)"
   ]
  },
  {
   "cell_type": "code",
   "execution_count": 117,
   "id": "e9ef13f8",
   "metadata": {
    "scrolled": true
   },
   "outputs": [
    {
     "name": "stdout",
     "output_type": "stream",
     "text": [
      "Accuracy for RandomForest : 0.9967213114754099\n",
      "F1_score for RandomForest : 0.9714285714285714\n"
     ]
    }
   ],
   "source": [
    "rf = RandomForestClassifier(max_depth=10, min_samples_leaf=1, min_samples_split=5, n_estimators=50, random_state=42)\n",
    "rf.fit(train_X, train_y)\n",
    "\n",
    "print(f\"Accuracy for RandomForest : {accuracy_score(test_y, rf.predict(test_X))}\")\n",
    "print(f\"F1_score for RandomForest : {f1_score(test_y, rf.predict(test_X))}\")"
   ]
  },
  {
   "cell_type": "markdown",
   "id": "ac135dac",
   "metadata": {},
   "source": [
    "### LightGBM"
   ]
  },
  {
   "cell_type": "code",
   "execution_count": 118,
   "id": "b816bd35",
   "metadata": {
    "scrolled": true
   },
   "outputs": [
    {
     "name": "stdout",
     "output_type": "stream",
     "text": [
      "Accuracy for LightGBM : 0.9901639344262295\n",
      "F1_score for LightGBM : 0.923076923076923\n"
     ]
    }
   ],
   "source": [
    "from lightgbm import LGBMClassifier\n",
    "\n",
    "lgbm = LGBMClassifier(random_state=42)\n",
    "lgbm.fit(train_X, train_y)\n",
    "\n",
    "print(f\"Accuracy for LightGBM : {accuracy_score(test_y, lgbm.predict(test_X))}\")\n",
    "print(f\"F1_score for LightGBM : {f1_score(test_y, lgbm.predict(test_X))}\")"
   ]
  },
  {
   "cell_type": "markdown",
   "id": "a2568db5",
   "metadata": {},
   "source": [
    "#### LightGBM Tuning"
   ]
  },
  {
   "cell_type": "code",
   "execution_count": 119,
   "id": "5c396dba",
   "metadata": {},
   "outputs": [
    {
     "name": "stdout",
     "output_type": "stream",
     "text": [
      "Best hyperparameters for LightGBM:  {'learning_rate': 0.01, 'n_estimators': 1000, 'num_leaves': 10}\n"
     ]
    }
   ],
   "source": [
    "from sklearn.model_selection import GridSearchCV\n",
    "\n",
    "# Define the model\n",
    "lgbm = LGBMClassifier(random_state=42)\n",
    "\n",
    "# Define the hyperparameters to tune\n",
    "param_grid = {\n",
    "    'num_leaves': [5, 10],\n",
    "    'learning_rate': [0.001, 0.01, 0.1],\n",
    "    'n_estimators': [100, 500, 1000]\n",
    "}\n",
    "\n",
    "# Perform grid search\n",
    "grid_search_lgbm = GridSearchCV(lgbm, param_grid, scoring='f1_macro', cv=5, n_jobs=-1)\n",
    "grid_search_lgbm.fit(train_X, train_y)\n",
    "\n",
    "# Print the best hyperparameters\n",
    "print(\"Best hyperparameters for LightGBM: \", grid_search_lgbm.best_params_)"
   ]
  },
  {
   "cell_type": "code",
   "execution_count": 120,
   "id": "1466d196",
   "metadata": {},
   "outputs": [
    {
     "name": "stdout",
     "output_type": "stream",
     "text": [
      "Accuracy for LightGBM : 0.9901639344262295\n",
      "F1_score for LightGBM : 0.923076923076923\n"
     ]
    }
   ],
   "source": [
    "lgbm = LGBMClassifier(learning_rate=0.01, n_estimators=1000, num_leaves=10, random_state=42)\n",
    "lgbm.fit(train_X, train_y)\n",
    "\n",
    "print(f\"Accuracy for LightGBM : {accuracy_score(test_y, lgbm.predict(test_X))}\")\n",
    "print(f\"F1_score for LightGBM : {f1_score(test_y, lgbm.predict(test_X))}\")"
   ]
  },
  {
   "cell_type": "markdown",
   "id": "16b3627d",
   "metadata": {},
   "source": [
    "### XGBoost"
   ]
  },
  {
   "cell_type": "code",
   "execution_count": 121,
   "id": "793e3634",
   "metadata": {},
   "outputs": [
    {
     "name": "stdout",
     "output_type": "stream",
     "text": [
      "Accuracy for XGBoost : 0.9868852459016394\n",
      "F1_score for XGBoost : 0.9\n"
     ]
    }
   ],
   "source": [
    "from xgboost import XGBClassifier\n",
    "\n",
    "xgb = XGBClassifier(random_state=42)\n",
    "xgb.fit(train_X, train_y)\n",
    "\n",
    "print(f\"Accuracy for XGBoost : {accuracy_score(test_y, xgb.predict(test_X))}\")\n",
    "print(f\"F1_score for XGBoost : {f1_score(test_y, xgb.predict(test_X))}\")"
   ]
  },
  {
   "cell_type": "markdown",
   "id": "2c310e33",
   "metadata": {},
   "source": [
    "#### XGBoost Tuning"
   ]
  },
  {
   "cell_type": "code",
   "execution_count": 122,
   "id": "64c968fa",
   "metadata": {},
   "outputs": [
    {
     "name": "stdout",
     "output_type": "stream",
     "text": [
      "Best hyperparameters for XGBoost:  {'learning_rate': 0.1, 'max_depth': 7, 'n_estimators': 50}\n"
     ]
    }
   ],
   "source": [
    "from sklearn.model_selection import GridSearchCV\n",
    "\n",
    "# Define the model\n",
    "xgb = XGBClassifier(random_state=42)\n",
    "\n",
    "# Define the hyperparameters to be tuned\n",
    "param_grid = {\n",
    "    'n_estimators': [50, 100, 200],\n",
    "    'max_depth': [3, 5, 7],\n",
    "    'learning_rate': [0.001, 0.01, 0.1]\n",
    "}\n",
    "\n",
    "# Define the GridSearchCV\n",
    "grid_search_xgb = GridSearchCV(xgb, param_grid, scoring='f1_macro', cv=5, n_jobs=-1)\n",
    "\n",
    "# Fit the GridSearchCV with the data\n",
    "grid_search_xgb.fit(train_X, train_y)\n",
    "\n",
    "# Get the best hyperparameters and print the best score\n",
    "best_params = grid_search_xgb.best_params_\n",
    "print(\"Best hyperparameters for XGBoost: \", best_params)"
   ]
  },
  {
   "cell_type": "code",
   "execution_count": 123,
   "id": "b798e557",
   "metadata": {
    "scrolled": true
   },
   "outputs": [
    {
     "name": "stdout",
     "output_type": "stream",
     "text": [
      "Accuracy for XGBoost : 0.9868852459016394\n",
      "F1_score for XGBoost : 0.9\n"
     ]
    }
   ],
   "source": [
    "xgb = XGBClassifier(learning_rate=0.1, max_depth=7, n_estimators=50, random_state=42)\n",
    "xgb.fit(train_X, train_y)\n",
    "\n",
    "print(f\"Accuracy for XGBoost : {accuracy_score(test_y, xgb.predict(test_X))}\")\n",
    "print(f\"F1_score for XGBoost : {f1_score(test_y, xgb.predict(test_X))}\")"
   ]
  },
  {
   "cell_type": "markdown",
   "id": "72c1b39c",
   "metadata": {},
   "source": [
    "### MLP"
   ]
  },
  {
   "cell_type": "code",
   "execution_count": 124,
   "id": "d66a792b",
   "metadata": {},
   "outputs": [
    {
     "name": "stdout",
     "output_type": "stream",
     "text": [
      "Accuracy for MLP : 0.9934426229508196\n",
      "F1_score for MLP : 0.9473684210526316\n"
     ]
    }
   ],
   "source": [
    "from sklearn.neural_network import MLPClassifier\n",
    "\n",
    "mlp = MLPClassifier(max_iter=300, random_state=42)\n",
    "mlp.fit(train_X, train_y)\n",
    "\n",
    "print(f\"Accuracy for MLP : {accuracy_score(test_y, mlp.predict(test_X))}\")\n",
    "print(f\"F1_score for MLP : {f1_score(test_y, mlp.predict(test_X))}\")"
   ]
  },
  {
   "cell_type": "markdown",
   "id": "1405d993",
   "metadata": {},
   "source": [
    "#### MLP Tuning"
   ]
  },
  {
   "cell_type": "code",
   "execution_count": 125,
   "id": "0ea45f82",
   "metadata": {},
   "outputs": [
    {
     "name": "stderr",
     "output_type": "stream",
     "text": [
      "/Users/yeorii/opt/anaconda3/envs/yeonii/lib/python3.9/site-packages/sklearn/neural_network/_multilayer_perceptron.py:691: ConvergenceWarning: Stochastic Optimizer: Maximum iterations (300) reached and the optimization hasn't converged yet.\n",
      "  warnings.warn(\n",
      "/Users/yeorii/opt/anaconda3/envs/yeonii/lib/python3.9/site-packages/sklearn/neural_network/_multilayer_perceptron.py:691: ConvergenceWarning: Stochastic Optimizer: Maximum iterations (300) reached and the optimization hasn't converged yet.\n",
      "  warnings.warn(\n",
      "/Users/yeorii/opt/anaconda3/envs/yeonii/lib/python3.9/site-packages/sklearn/neural_network/_multilayer_perceptron.py:691: ConvergenceWarning: Stochastic Optimizer: Maximum iterations (300) reached and the optimization hasn't converged yet.\n",
      "  warnings.warn(\n",
      "/Users/yeorii/opt/anaconda3/envs/yeonii/lib/python3.9/site-packages/sklearn/neural_network/_multilayer_perceptron.py:691: ConvergenceWarning: Stochastic Optimizer: Maximum iterations (300) reached and the optimization hasn't converged yet.\n",
      "  warnings.warn(\n",
      "/Users/yeorii/opt/anaconda3/envs/yeonii/lib/python3.9/site-packages/sklearn/neural_network/_multilayer_perceptron.py:691: ConvergenceWarning: Stochastic Optimizer: Maximum iterations (300) reached and the optimization hasn't converged yet.\n",
      "  warnings.warn(\n",
      "/Users/yeorii/opt/anaconda3/envs/yeonii/lib/python3.9/site-packages/sklearn/neural_network/_multilayer_perceptron.py:691: ConvergenceWarning: Stochastic Optimizer: Maximum iterations (300) reached and the optimization hasn't converged yet.\n",
      "  warnings.warn(\n",
      "/Users/yeorii/opt/anaconda3/envs/yeonii/lib/python3.9/site-packages/sklearn/neural_network/_multilayer_perceptron.py:691: ConvergenceWarning: Stochastic Optimizer: Maximum iterations (300) reached and the optimization hasn't converged yet.\n",
      "  warnings.warn(\n",
      "/Users/yeorii/opt/anaconda3/envs/yeonii/lib/python3.9/site-packages/sklearn/neural_network/_multilayer_perceptron.py:691: ConvergenceWarning: Stochastic Optimizer: Maximum iterations (300) reached and the optimization hasn't converged yet.\n",
      "  warnings.warn(\n",
      "/Users/yeorii/opt/anaconda3/envs/yeonii/lib/python3.9/site-packages/sklearn/neural_network/_multilayer_perceptron.py:691: ConvergenceWarning: Stochastic Optimizer: Maximum iterations (300) reached and the optimization hasn't converged yet.\n",
      "  warnings.warn(\n",
      "/Users/yeorii/opt/anaconda3/envs/yeonii/lib/python3.9/site-packages/sklearn/neural_network/_multilayer_perceptron.py:691: ConvergenceWarning: Stochastic Optimizer: Maximum iterations (300) reached and the optimization hasn't converged yet.\n",
      "  warnings.warn(\n",
      "/Users/yeorii/opt/anaconda3/envs/yeonii/lib/python3.9/site-packages/sklearn/neural_network/_multilayer_perceptron.py:691: ConvergenceWarning: Stochastic Optimizer: Maximum iterations (300) reached and the optimization hasn't converged yet.\n",
      "  warnings.warn(\n",
      "/Users/yeorii/opt/anaconda3/envs/yeonii/lib/python3.9/site-packages/sklearn/neural_network/_multilayer_perceptron.py:691: ConvergenceWarning: Stochastic Optimizer: Maximum iterations (300) reached and the optimization hasn't converged yet.\n",
      "  warnings.warn(\n",
      "/Users/yeorii/opt/anaconda3/envs/yeonii/lib/python3.9/site-packages/sklearn/neural_network/_multilayer_perceptron.py:691: ConvergenceWarning: Stochastic Optimizer: Maximum iterations (300) reached and the optimization hasn't converged yet.\n",
      "  warnings.warn(\n",
      "/Users/yeorii/opt/anaconda3/envs/yeonii/lib/python3.9/site-packages/sklearn/neural_network/_multilayer_perceptron.py:691: ConvergenceWarning: Stochastic Optimizer: Maximum iterations (300) reached and the optimization hasn't converged yet.\n",
      "  warnings.warn(\n",
      "/Users/yeorii/opt/anaconda3/envs/yeonii/lib/python3.9/site-packages/sklearn/neural_network/_multilayer_perceptron.py:691: ConvergenceWarning: Stochastic Optimizer: Maximum iterations (300) reached and the optimization hasn't converged yet.\n",
      "  warnings.warn(\n",
      "/Users/yeorii/opt/anaconda3/envs/yeonii/lib/python3.9/site-packages/sklearn/neural_network/_multilayer_perceptron.py:691: ConvergenceWarning: Stochastic Optimizer: Maximum iterations (300) reached and the optimization hasn't converged yet.\n",
      "  warnings.warn(\n",
      "/Users/yeorii/opt/anaconda3/envs/yeonii/lib/python3.9/site-packages/sklearn/neural_network/_multilayer_perceptron.py:691: ConvergenceWarning: Stochastic Optimizer: Maximum iterations (300) reached and the optimization hasn't converged yet.\n",
      "  warnings.warn(\n",
      "/Users/yeorii/opt/anaconda3/envs/yeonii/lib/python3.9/site-packages/sklearn/neural_network/_multilayer_perceptron.py:691: ConvergenceWarning: Stochastic Optimizer: Maximum iterations (300) reached and the optimization hasn't converged yet.\n",
      "  warnings.warn(\n",
      "/Users/yeorii/opt/anaconda3/envs/yeonii/lib/python3.9/site-packages/sklearn/neural_network/_multilayer_perceptron.py:691: ConvergenceWarning: Stochastic Optimizer: Maximum iterations (300) reached and the optimization hasn't converged yet.\n",
      "  warnings.warn(\n",
      "/Users/yeorii/opt/anaconda3/envs/yeonii/lib/python3.9/site-packages/sklearn/neural_network/_multilayer_perceptron.py:691: ConvergenceWarning: Stochastic Optimizer: Maximum iterations (300) reached and the optimization hasn't converged yet.\n",
      "  warnings.warn(\n",
      "/Users/yeorii/opt/anaconda3/envs/yeonii/lib/python3.9/site-packages/sklearn/neural_network/_multilayer_perceptron.py:691: ConvergenceWarning: Stochastic Optimizer: Maximum iterations (300) reached and the optimization hasn't converged yet.\n",
      "  warnings.warn(\n",
      "/Users/yeorii/opt/anaconda3/envs/yeonii/lib/python3.9/site-packages/sklearn/neural_network/_multilayer_perceptron.py:691: ConvergenceWarning: Stochastic Optimizer: Maximum iterations (300) reached and the optimization hasn't converged yet.\n",
      "  warnings.warn(\n",
      "/Users/yeorii/opt/anaconda3/envs/yeonii/lib/python3.9/site-packages/sklearn/neural_network/_multilayer_perceptron.py:691: ConvergenceWarning: Stochastic Optimizer: Maximum iterations (300) reached and the optimization hasn't converged yet.\n",
      "  warnings.warn(\n",
      "/Users/yeorii/opt/anaconda3/envs/yeonii/lib/python3.9/site-packages/sklearn/neural_network/_multilayer_perceptron.py:691: ConvergenceWarning: Stochastic Optimizer: Maximum iterations (300) reached and the optimization hasn't converged yet.\n",
      "  warnings.warn(\n",
      "/Users/yeorii/opt/anaconda3/envs/yeonii/lib/python3.9/site-packages/sklearn/neural_network/_multilayer_perceptron.py:691: ConvergenceWarning: Stochastic Optimizer: Maximum iterations (300) reached and the optimization hasn't converged yet.\n",
      "  warnings.warn(\n",
      "/Users/yeorii/opt/anaconda3/envs/yeonii/lib/python3.9/site-packages/sklearn/neural_network/_multilayer_perceptron.py:691: ConvergenceWarning: Stochastic Optimizer: Maximum iterations (300) reached and the optimization hasn't converged yet.\n",
      "  warnings.warn(\n",
      "/Users/yeorii/opt/anaconda3/envs/yeonii/lib/python3.9/site-packages/sklearn/neural_network/_multilayer_perceptron.py:691: ConvergenceWarning: Stochastic Optimizer: Maximum iterations (300) reached and the optimization hasn't converged yet.\n",
      "  warnings.warn(\n",
      "/Users/yeorii/opt/anaconda3/envs/yeonii/lib/python3.9/site-packages/sklearn/neural_network/_multilayer_perceptron.py:691: ConvergenceWarning: Stochastic Optimizer: Maximum iterations (300) reached and the optimization hasn't converged yet.\n",
      "  warnings.warn(\n",
      "/Users/yeorii/opt/anaconda3/envs/yeonii/lib/python3.9/site-packages/sklearn/neural_network/_multilayer_perceptron.py:691: ConvergenceWarning: Stochastic Optimizer: Maximum iterations (300) reached and the optimization hasn't converged yet.\n",
      "  warnings.warn(\n",
      "/Users/yeorii/opt/anaconda3/envs/yeonii/lib/python3.9/site-packages/sklearn/neural_network/_multilayer_perceptron.py:691: ConvergenceWarning: Stochastic Optimizer: Maximum iterations (300) reached and the optimization hasn't converged yet.\n",
      "  warnings.warn(\n",
      "/Users/yeorii/opt/anaconda3/envs/yeonii/lib/python3.9/site-packages/sklearn/neural_network/_multilayer_perceptron.py:691: ConvergenceWarning: Stochastic Optimizer: Maximum iterations (300) reached and the optimization hasn't converged yet.\n",
      "  warnings.warn(\n",
      "/Users/yeorii/opt/anaconda3/envs/yeonii/lib/python3.9/site-packages/sklearn/neural_network/_multilayer_perceptron.py:691: ConvergenceWarning: Stochastic Optimizer: Maximum iterations (300) reached and the optimization hasn't converged yet.\n",
      "  warnings.warn(\n",
      "/Users/yeorii/opt/anaconda3/envs/yeonii/lib/python3.9/site-packages/sklearn/neural_network/_multilayer_perceptron.py:691: ConvergenceWarning: Stochastic Optimizer: Maximum iterations (300) reached and the optimization hasn't converged yet.\n",
      "  warnings.warn(\n",
      "/Users/yeorii/opt/anaconda3/envs/yeonii/lib/python3.9/site-packages/sklearn/neural_network/_multilayer_perceptron.py:691: ConvergenceWarning: Stochastic Optimizer: Maximum iterations (300) reached and the optimization hasn't converged yet.\n",
      "  warnings.warn(\n",
      "/Users/yeorii/opt/anaconda3/envs/yeonii/lib/python3.9/site-packages/sklearn/neural_network/_multilayer_perceptron.py:691: ConvergenceWarning: Stochastic Optimizer: Maximum iterations (300) reached and the optimization hasn't converged yet.\n",
      "  warnings.warn(\n",
      "/Users/yeorii/opt/anaconda3/envs/yeonii/lib/python3.9/site-packages/sklearn/neural_network/_multilayer_perceptron.py:691: ConvergenceWarning: Stochastic Optimizer: Maximum iterations (300) reached and the optimization hasn't converged yet.\n",
      "  warnings.warn(\n",
      "/Users/yeorii/opt/anaconda3/envs/yeonii/lib/python3.9/site-packages/sklearn/neural_network/_multilayer_perceptron.py:691: ConvergenceWarning: Stochastic Optimizer: Maximum iterations (300) reached and the optimization hasn't converged yet.\n",
      "  warnings.warn(\n",
      "/Users/yeorii/opt/anaconda3/envs/yeonii/lib/python3.9/site-packages/sklearn/neural_network/_multilayer_perceptron.py:691: ConvergenceWarning: Stochastic Optimizer: Maximum iterations (300) reached and the optimization hasn't converged yet.\n",
      "  warnings.warn(\n",
      "/Users/yeorii/opt/anaconda3/envs/yeonii/lib/python3.9/site-packages/sklearn/neural_network/_multilayer_perceptron.py:691: ConvergenceWarning: Stochastic Optimizer: Maximum iterations (300) reached and the optimization hasn't converged yet.\n",
      "  warnings.warn(\n",
      "/Users/yeorii/opt/anaconda3/envs/yeonii/lib/python3.9/site-packages/sklearn/neural_network/_multilayer_perceptron.py:691: ConvergenceWarning: Stochastic Optimizer: Maximum iterations (300) reached and the optimization hasn't converged yet.\n",
      "  warnings.warn(\n",
      "/Users/yeorii/opt/anaconda3/envs/yeonii/lib/python3.9/site-packages/sklearn/neural_network/_multilayer_perceptron.py:691: ConvergenceWarning: Stochastic Optimizer: Maximum iterations (300) reached and the optimization hasn't converged yet.\n",
      "  warnings.warn(\n",
      "/Users/yeorii/opt/anaconda3/envs/yeonii/lib/python3.9/site-packages/sklearn/neural_network/_multilayer_perceptron.py:691: ConvergenceWarning: Stochastic Optimizer: Maximum iterations (300) reached and the optimization hasn't converged yet.\n",
      "  warnings.warn(\n",
      "/Users/yeorii/opt/anaconda3/envs/yeonii/lib/python3.9/site-packages/sklearn/neural_network/_multilayer_perceptron.py:691: ConvergenceWarning: Stochastic Optimizer: Maximum iterations (300) reached and the optimization hasn't converged yet.\n",
      "  warnings.warn(\n",
      "/Users/yeorii/opt/anaconda3/envs/yeonii/lib/python3.9/site-packages/sklearn/neural_network/_multilayer_perceptron.py:691: ConvergenceWarning: Stochastic Optimizer: Maximum iterations (300) reached and the optimization hasn't converged yet.\n",
      "  warnings.warn(\n",
      "/Users/yeorii/opt/anaconda3/envs/yeonii/lib/python3.9/site-packages/sklearn/neural_network/_multilayer_perceptron.py:691: ConvergenceWarning: Stochastic Optimizer: Maximum iterations (300) reached and the optimization hasn't converged yet.\n",
      "  warnings.warn(\n",
      "/Users/yeorii/opt/anaconda3/envs/yeonii/lib/python3.9/site-packages/sklearn/neural_network/_multilayer_perceptron.py:691: ConvergenceWarning: Stochastic Optimizer: Maximum iterations (300) reached and the optimization hasn't converged yet.\n",
      "  warnings.warn(\n",
      "/Users/yeorii/opt/anaconda3/envs/yeonii/lib/python3.9/site-packages/sklearn/neural_network/_multilayer_perceptron.py:691: ConvergenceWarning: Stochastic Optimizer: Maximum iterations (300) reached and the optimization hasn't converged yet.\n",
      "  warnings.warn(\n",
      "/Users/yeorii/opt/anaconda3/envs/yeonii/lib/python3.9/site-packages/sklearn/neural_network/_multilayer_perceptron.py:691: ConvergenceWarning: Stochastic Optimizer: Maximum iterations (300) reached and the optimization hasn't converged yet.\n",
      "  warnings.warn(\n",
      "/Users/yeorii/opt/anaconda3/envs/yeonii/lib/python3.9/site-packages/sklearn/neural_network/_multilayer_perceptron.py:691: ConvergenceWarning: Stochastic Optimizer: Maximum iterations (300) reached and the optimization hasn't converged yet.\n",
      "  warnings.warn(\n"
     ]
    },
    {
     "name": "stdout",
     "output_type": "stream",
     "text": [
      "Best hyperparameters for MLP:  {'activation': 'relu', 'alpha': 0.1, 'hidden_layer_sizes': (50,), 'solver': 'lbfgs'}\n"
     ]
    }
   ],
   "source": [
    "from sklearn.model_selection import GridSearchCV\n",
    "\n",
    "# Define the MLPRegressor model\n",
    "mlp = MLPClassifier(max_iter=300, random_state=42)\n",
    "\n",
    "# Define the hyperparameters to be tuned\n",
    "param_grid = {'hidden_layer_sizes': [(10,), (50,)], \n",
    "              'activation': ['logistic', 'tanh', 'relu'],\n",
    "              'solver': ['lbfgs', 'sgd', 'adam'],\n",
    "              'alpha': [0.001, 0.01, 0.1]}\n",
    "\n",
    "# Create the GridSearchCV object\n",
    "grid_search_mlp = GridSearchCV(mlp, param_grid, scoring='f1_macro', cv=5, n_jobs=-1)\n",
    "\n",
    "# Fit the GridSearchCV object to the data\n",
    "grid_search_mlp.fit(train_X, train_y)\n",
    "\n",
    "# Get the best parameters and the best MLPRegressor model\n",
    "best_params = grid_search_mlp.best_params_\n",
    "\n",
    "print(\"Best hyperparameters for MLP: \", best_params)"
   ]
  },
  {
   "cell_type": "code",
   "execution_count": 126,
   "id": "d393c10f",
   "metadata": {},
   "outputs": [
    {
     "name": "stdout",
     "output_type": "stream",
     "text": [
      "Accuracy for MLP : 0.9901639344262295\n",
      "F1_score for MLP : 0.918918918918919\n"
     ]
    }
   ],
   "source": [
    "mlp = MLPClassifier(activation='relu', alpha=0.1, hidden_layer_sizes=(50,), solver='lbfgs', max_iter=300, random_state=42)\n",
    "mlp.fit(train_X, train_y)\n",
    "\n",
    "print(f\"Accuracy for MLP : {accuracy_score(test_y, mlp.predict(test_X))}\")\n",
    "print(f\"F1_score for MLP : {f1_score(test_y, mlp.predict(test_X))}\")"
   ]
  },
  {
   "cell_type": "markdown",
   "metadata": {},
   "source": [
    "### SVM"
   ]
  },
  {
   "cell_type": "code",
   "execution_count": 127,
   "metadata": {},
   "outputs": [
    {
     "name": "stdout",
     "output_type": "stream",
     "text": [
      "Accuracy for SVM: 0.9934426229508196\n",
      "F1 Score for SVM: 0.9411764705882353\n"
     ]
    }
   ],
   "source": [
    "from sklearn.svm import SVC\n",
    "\n",
    "svm = SVC(random_state=42)\n",
    "svm.fit(train_X, train_y)\n",
    "\n",
    "print(f\"Accuracy for SVM: {accuracy_score(test_y, svm.predict(test_X))}\")\n",
    "print(f\"F1 Score for SVM: {f1_score(test_y, svm.predict(test_X))}\")"
   ]
  },
  {
   "cell_type": "markdown",
   "metadata": {},
   "source": [
    "### Naive Bayes"
   ]
  },
  {
   "cell_type": "code",
   "execution_count": 128,
   "metadata": {},
   "outputs": [
    {
     "name": "stdout",
     "output_type": "stream",
     "text": [
      "Accuracy for Naive Bayes: 0.9934426229508196\n",
      "F1 Score for Naive Bayes: 0.9473684210526316\n"
     ]
    }
   ],
   "source": [
    "from sklearn.naive_bayes import GaussianNB\n",
    "\n",
    "nb = GaussianNB()\n",
    "nb.fit(train_X, train_y)\n",
    "\n",
    "print(f\"Accuracy for Naive Bayes: {accuracy_score(test_y, nb.predict(test_X))}\")\n",
    "print(f\"F1 Score for Naive Bayes: {f1_score(test_y, nb.predict(test_X))}\")\n"
   ]
  }
 ],
 "metadata": {
  "kernelspec": {
   "display_name": "Python 3.9.15 ('yeonii')",
   "language": "python",
   "name": "python3"
  },
  "language_info": {
   "codemirror_mode": {
    "name": "ipython",
    "version": 3
   },
   "file_extension": ".py",
   "mimetype": "text/x-python",
   "name": "python",
   "nbconvert_exporter": "python",
   "pygments_lexer": "ipython3",
   "version": "3.9.15"
  },
  "orig_nbformat": 4,
  "vscode": {
   "interpreter": {
    "hash": "19cdb573a42401074e38f706383cbfa1833acb696c2188dc3609525a6f268ee1"
   }
  }
 },
 "nbformat": 4,
 "nbformat_minor": 2
}
